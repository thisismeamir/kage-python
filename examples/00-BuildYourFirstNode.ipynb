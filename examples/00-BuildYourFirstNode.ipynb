{
 "cells": [
  {
   "metadata": {},
   "cell_type": "markdown",
   "source": [
    "# 00 Quick Example\n",
    "In this brief notebook we investigate creating a simple hello world plugin for [KAGE](\"https://github.com/thisismeamir/kage\"). This module uses the help of the development kit for python available at [Kage-Python](\"https://github.com/thisismeamir/kage-python\").\n",
    "\n",
    "## Note:\n",
    "Throughout these example and in documentation we might mention the term \"plugin\" which is equivalent to \"Node\" in the Kage project. We use plugin here because it's mode understandable in the context of another project and not inside the Kage itself.\n"
   ],
   "id": "75d05d5a38258b63"
  },
  {
   "metadata": {},
   "cell_type": "markdown",
   "source": [
    "## Setting Up\n",
    "To begin creating a plugin (node) in python. We first need to understand what a node is. Kage defines nodes as an abstraction of a task or a job. Given an input (json) it returns and output (json) and artifacts (side effects, files, and other object). A node can be defined in Kage using a node schema file which is a json with the following properties.\n",
    "\n",
    "```json\n",
    "{\n",
    "  \"name\": \"string\",\n",
    "  \"version\": \"string\",\n",
    "  \"type\": \"node\",\n",
    "  \"model\": {\n",
    "    \"execution_model\": {\n",
    "      \"language\": \"string\",\n",
    "      \"input_schema\":  {},\n",
    "      \"output_schema\": {},\n",
    "      \"artifacts\": [\"string\"]\n",
    "    },\n",
    "    \"source\": \"string\",\n",
    "    \"working_directory\": \"string\",\n",
    "    \"entry_file\": \"string\",\n",
    "    \"output_directory\": \"string\"\n",
    "  },\n",
    "  \"metadata\": {\n",
    "    \"description\": \"string\",\n",
    "    \"authors\": [\n",
    "      {\n",
    "        \"name\": \"string\",\n",
    "        \"email\": \"string\",\n",
    "        \"url\": \"string\"\n",
    "      }\n",
    "    ],\n",
    "    \"manual\": \"string\",\n",
    "    \"repository\": \"string\"\n",
    "  }\n",
    "}\n",
    "```\n",
    "\n",
    "To dive deep into understanding this file or nodes in general refer to the documentation of Kage itself. Here what we are interested in is the model key:\n",
    "```json\n",
    "  \"model\": {\n",
    "    \"execution_model\": {\n",
    "      \"language\": \"string\",\n",
    "      \"input_schema\":  {},\n",
    "      \"output_schema\": {},\n",
    "      \"artifacts\": [\"string\"]\n",
    "    },\n",
    "    \"source\": \"string\",\n",
    "    \"working_directory\": \"string\",\n",
    "    \"entry_file\": \"string\",\n",
    "  },\n",
    "```\n",
    "- `model`: Describes necessary information to Kage about the node (plugin).\n",
    "- `execution_model`: Information about what language the plugin is written in. Helps because Kage commits to be language-agnostic, and therefore, needs to know what language this plugin/node is written in.\n",
    "- `language`: Correct name of the language (e.g `python` not `py`).\n",
    "- `input_schema`: An object that defines what does the json input should look like, both structure and type. This would be used further to make sure that the plugin would run correctly (apart from the errors that are internally caused by the plugin itself).\n",
    "- `output_schema`: An object that shows what does the output of this plugin would look like. This is being used in graphs (another term for automation modules in Kage) to understand what is being sent to the next step of the process by this task.\n",
    "- `artifacts`: Least of possible side effects and artifacts files.\n",
    "- `source`: The path to the source of the plugin, or where the executables live.\n",
    "- `working_directory`: Can be empty or in the input schema but if mentioned here tells Kage to execute this task in a specific folder.\n",
    "- `entry_file`: The file that Kage would recognize as something that can be run for the desired output, defining this would enable you to have multiple files, folders and packages in the source directory, which makes writing more complex plugins easier."
   ],
   "id": "3a19ccfad343d4f9"
  },
  {
   "metadata": {},
   "cell_type": "markdown",
   "source": "## Writing a Plugin",
   "id": "b9e162477f4de0f1"
  },
  {
   "metadata": {},
   "cell_type": "markdown",
   "source": [
    "### Step-01: Introducing Schemas To The Project\n",
    "For any Kage-Python Plugin that we would write we have to define the two schemas, namely `input_schema` and `output_schema`"
   ],
   "id": "db7052f6b4f09143"
  },
  {
   "cell_type": "code",
   "id": "initial_id",
   "metadata": {
    "collapsed": true,
    "ExecuteTime": {
     "end_time": "2025-08-03T12:43:18.791679Z",
     "start_time": "2025-08-03T12:43:18.788173Z"
    }
   },
   "source": [
    "# Input schema\n",
    "input_schema = {\n",
    "    \"type\": \"object\",\n",
    "    \"required\": [\"user\"],\n",
    "        \"user\": {\n",
    "            \"type\": \"object\",\n",
    "            \"properties\": {\n",
    "                \"name\": \"string\",\n",
    "                \"age\": \"integer\",\n",
    "                \"email\": \"string\"\n",
    "            }\n",
    "        }\n",
    "}\n",
    "# Output schema (optional)\n",
    "output_schema = {\n",
    "    \"type\": \"object\",\n",
    "    \"properties\": {\n",
    "        \"greeting\": \"string\",\n",
    "        \"user_summary\": \"string\"\n",
    "    }\n",
    "}"
   ],
   "outputs": [],
   "execution_count": 1
  },
  {
   "metadata": {},
   "cell_type": "markdown",
   "source": "Notice how we mentioned `type` key and value wherever we wanted to define an object. Otherwise just define the key followed by the type of the key as value.",
   "id": "802def994baf8e46"
  },
  {
   "metadata": {},
   "cell_type": "markdown",
   "source": [
    "### Step-02: Creating Functionality\n",
    "This step is generally where you write your plugin application, any functionality that you have in mind can be written. You can also use multiple files, an already written project or anything you desire. For this notebook we would define two function in our project:"
   ],
   "id": "4a3cd09864a6b6f1"
  },
  {
   "metadata": {
    "ExecuteTime": {
     "end_time": "2025-08-03T12:43:18.848768Z",
     "start_time": "2025-08-03T12:43:18.846162Z"
    }
   },
   "cell_type": "code",
   "source": [
    "def create_greeting(name: str) -> str:\n",
    "    return f\"Hello, {name}!, This is a Kage Plugin\"\n",
    "\n",
    "def summarize_user(name: str, age: int, email: str) -> str:\n",
    "    return f\"{name} is {age} years old and can be reached at {email}\""
   ],
   "id": "5b0699ccce9b82e3",
   "outputs": [],
   "execution_count": 2
  },
  {
   "metadata": {},
   "cell_type": "markdown",
   "source": [
    "### Step-03: Initializing Kage and Binding Functions\n",
    "To initialize the plugin we would write something like the following in our `entry_file`. The general steps are:\n",
    "1. **Making a Kage Object**: Give the Kage object input_schema and output_schema. And also passing the input_data to be evaluated.\n",
    "2. **Binding Functions** to the object with a dictionary that tells Kage what which inputs go for which arguments.\n",
    "3. **Executing Kage**: Execution of the plugin."
   ],
   "id": "2597fcaa7c4ac2f7"
  },
  {
   "metadata": {
    "ExecuteTime": {
     "end_time": "2025-08-03T12:43:18.908996Z",
     "start_time": "2025-08-03T12:43:18.899886Z"
    }
   },
   "cell_type": "code",
   "source": [
    "from kage.core import Kage\n",
    "input_data = {\n",
    "    \"user\": {\n",
    "        \"name\": \"Kid A\",\n",
    "        \"age\": 22,\n",
    "        \"email\": \"thisismeamir@outlook.com\"\n",
    "    }\n",
    "}\n",
    "\n",
    "# Initialize Kage\n",
    "kage = Kage(input_schema, output_schema)\n",
    "\n",
    "# Bind functions\n",
    "kage.bind_function(\n",
    "    create_greeting,\n",
    "    {\"name\": \"user.name\"},\n",
    "    output_key=\"greeting\"\n",
    ").bind_function(\n",
    "    summarize_user,\n",
    "    {\"name\": \"user.name\", \"age\": \"user.age\", \"email\": \"user.email\"},\n",
    "    output_key=\"user_summary\"\n",
    ")\n",
    "\n",
    "# Execute and get results\n",
    "result = kage.execute(input_data)\n",
    "print(kage.to_json())"
   ],
   "id": "8434f2387e9067ed",
   "outputs": [
    {
     "name": "stdout",
     "output_type": "stream",
     "text": [
      "{\n",
      "  \"greeting\": \"Hello, Kid A!, This is a Kage Plugin\",\n",
      "  \"user_summary\": \"Kid A is 22 years old and can be reached at thisismeamir@outlook.com\"\n",
      "}\n"
     ]
    }
   ],
   "execution_count": 3
  }
 ],
 "metadata": {
  "kernelspec": {
   "display_name": "Python 3",
   "language": "python",
   "name": "python3"
  },
  "language_info": {
   "codemirror_mode": {
    "name": "ipython",
    "version": 2
   },
   "file_extension": ".py",
   "mimetype": "text/x-python",
   "name": "python",
   "nbconvert_exporter": "python",
   "pygments_lexer": "ipython2",
   "version": "2.7.6"
  }
 },
 "nbformat": 4,
 "nbformat_minor": 5
}
